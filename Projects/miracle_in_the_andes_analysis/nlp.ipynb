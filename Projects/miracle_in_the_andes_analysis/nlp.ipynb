{
 "cells": [
  {
   "cell_type": "markdown",
   "id": "cf53ac5c",
   "metadata": {},
   "source": [
    "### Load the file"
   ]
  },
  {
   "cell_type": "code",
   "execution_count": null,
   "id": "77fe5ff6",
   "metadata": {},
   "outputs": [],
   "source": []
  },
  {
   "cell_type": "code",
   "execution_count": null,
   "id": "42d763f0",
   "metadata": {},
   "outputs": [],
   "source": [
    "with open(r\"E:\\Data analyst\\python\\udemy_python_course\\projects\\Natural_language_processing\\miracle_in_the_andes.txt\",'r') as file:\n",
    "    book=file.read()"
   ]
  },
  {
   "cell_type": "markdown",
   "id": "535419ad",
   "metadata": {},
   "source": [
    "### number of chapters in the book"
   ]
  },
  {
   "cell_type": "code",
   "execution_count": null,
   "id": "4c8833f9",
   "metadata": {},
   "outputs": [],
   "source": [
    "import re\n",
    "pattern=re.compile(\"Chapter [0-9]+\")\n",
    "findings=re.findall(pattern,book)\n",
    "len(findings)"
   ]
  },
  {
   "cell_type": "markdown",
   "id": "c55a6643",
   "metadata": {},
   "source": [
    "### Which of the sentences where \"love\" was used?"
   ]
  },
  {
   "cell_type": "code",
   "execution_count": null,
   "id": "91a97f8c",
   "metadata": {},
   "outputs": [],
   "source": [
    "pattern=re.compile (\"[^.]* love[^a-zA-Z]+[^.]*.\")\n",
    "findings=re.findall(pattern,book)\n",
    "len(findings)"
   ]
  },
  {
   "cell_type": "markdown",
   "id": "925db6d9",
   "metadata": {},
   "source": [
    "### Extract the paragraph where love was used in it?"
   ]
  },
  {
   "cell_type": "code",
   "execution_count": null,
   "id": "c630f60c",
   "metadata": {},
   "outputs": [],
   "source": [
    "pattern=re.compile(\"[^\\n]+love[^\\n]+\")\n",
    "findings=re.findall(pattern,book)\n",
    "len(findings)"
   ]
  },
  {
   "cell_type": "markdown",
   "id": "f5a931b0",
   "metadata": {},
   "source": [
    "### Extract the chapter titles"
   ]
  },
  {
   "cell_type": "code",
   "execution_count": null,
   "id": "9f053e04",
   "metadata": {},
   "outputs": [],
   "source": [
    "pattern=re.compile(\"[a-zA-z ,]+\\n\\n\")\n",
    "findings=re.findall(pattern,book)\n",
    "len(findings)"
   ]
  },
  {
   "cell_type": "code",
   "execution_count": null,
   "id": "29afa1ce",
   "metadata": {},
   "outputs": [],
   "source": [
    "pattern=re.compile(\"[a-zA-z]+\")\n",
    "findings=re.findall(pattern,book)\n",
    "findings"
   ]
  },
  {
   "cell_type": "code",
   "execution_count": null,
   "id": "ea27ae38",
   "metadata": {},
   "outputs": [],
   "source": [
    "word={}\n",
    "for finding in findings:\n",
    "    if finding in word.keys():\n",
    "        word[finding]=word[finding]+1\n",
    "    else:\n",
    "        word[finding]=1   \n",
    "\n",
    "word=[ (value,word) for word,value in word.items()]"
   ]
  },
  {
   "cell_type": "code",
   "execution_count": null,
   "id": "8ad1a55b",
   "metadata": {},
   "outputs": [],
   "source": [
    "sorted(word,reverse=True)"
   ]
  },
  {
   "cell_type": "markdown",
   "id": "5af9c8d3",
   "metadata": {},
   "source": [
    "# Extract the paragraphs where \"love\" was used"
   ]
  },
  {
   "cell_type": "code",
   "execution_count": null,
   "id": "54c0035b",
   "metadata": {},
   "outputs": [],
   "source": [
    "\n",
    "import re\n",
    "pattern = re.compile(\"[^\\n]+love[^\\n]+\")\n",
    "findings = re.findall(pattern, book)\n",
    "findings[:2]"
   ]
  },
  {
   "cell_type": "markdown",
   "id": "1dbb3e74",
   "metadata": {},
   "source": [
    "# Extract the chapter titles"
   ]
  },
  {
   "cell_type": "markdown",
   "id": "56dedb3f",
   "metadata": {},
   "source": [
    "### Method 1"
   ]
  },
  {
   "cell_type": "code",
   "execution_count": null,
   "id": "06056b52",
   "metadata": {},
   "outputs": [],
   "source": [
    "\n",
    "import re\n",
    "pattern = re.compile(\"[a-zA-Z ,]+\\n\\n\")\n",
    "findings = re.findall(pattern, book)\n",
    "findings = [item.strip(\"\\n\\n\") for item in findings]\n",
    "findings"
   ]
  },
  {
   "cell_type": "markdown",
   "id": "4ced3c15",
   "metadata": {},
   "source": [
    "### Method 2"
   ]
  },
  {
   "cell_type": "code",
   "execution_count": null,
   "id": "20863fb2",
   "metadata": {},
   "outputs": [],
   "source": [
    "\n",
    "import re\n",
    "pattern = re.compile(\"([a-zA-Z ]+)\\n\\n\")\n",
    "findings = re.findall(pattern, book)\n",
    "findings"
   ]
  },
  {
   "cell_type": "markdown",
   "id": "257b99e4",
   "metadata": {},
   "source": [
    "\n",
    "\n",
    "# Function that finds the occurrence of any word"
   ]
  },
  {
   "cell_type": "code",
   "execution_count": null,
   "id": "2d18a226",
   "metadata": {},
   "outputs": [],
   "source": [
    "\n",
    "def find(w):\n",
    "    pattern = re.compile(\"[a-zA-Z]+\")\n",
    "    findings = re.findall(pattern, book.lower())\n",
    "    d = {}\n",
    "    for word in findings:\n",
    "        if word in d.keys():\n",
    "            d[word] = d[word] + 1\n",
    "        else:\n",
    "            d[word] = 1\n",
    "    try:\n",
    "        return d[w]\n",
    "    except:\n",
    "        return f'The book does not contain the word \"{w}\"'"
   ]
  },
  {
   "cell_type": "markdown",
   "id": "4dc964d6",
   "metadata": {},
   "source": [
    "\n",
    "\n",
    "# Call the function"
   ]
  },
  {
   "cell_type": "code",
   "execution_count": null,
   "id": "2a01c805",
   "metadata": {},
   "outputs": [],
   "source": [
    "\n",
    "find(\"love\")\n",
    "find(\"hate\")"
   ]
  },
  {
   "cell_type": "markdown",
   "id": "72ce3d20",
   "metadata": {},
   "source": [
    "# most used non-stop words"
   ]
  },
  {
   "cell_type": "code",
   "execution_count": null,
   "id": "5e3d09b3",
   "metadata": {},
   "outputs": [],
   "source": [
    "pattern=re.compile(\"[a-zA-z]+\")\n",
    "findings=re.findall(pattern,book)\n",
    "\n",
    "d={}\n",
    "for word in findings:\n",
    "    if word in d.keys():\n",
    "        d[word]=d[word]+1\n",
    "    else:\n",
    "        d[word]=1\n",
    "\n",
    "d.keys()\n",
    "from nltk.corpus import stopwords\n",
    "stopwords=stopwords.words(\"english\")\n",
    "stopwords\n",
    "\n",
    "\n",
    "filtered_word = []\n",
    "for word, value in d.items():\n",
    "    if word not in stopwords:\n",
    "        filtered_word.append((word, value))\n",
    "filtered_word\n",
    "\n"
   ]
  },
  {
   "cell_type": "markdown",
   "id": "080cb649",
   "metadata": {},
   "source": [
    "### Sentiment analyzer\n"
   ]
  },
  {
   "cell_type": "markdown",
   "id": "d90bd9e2",
   "metadata": {},
   "source": [
    "# What is the most postive and negative chapter?"
   ]
  },
  {
   "cell_type": "markdown",
   "id": "76b79639",
   "metadata": {},
   "source": [
    "# For whole book\n"
   ]
  },
  {
   "cell_type": "code",
   "execution_count": null,
   "id": "300b8987",
   "metadata": {},
   "outputs": [],
   "source": [
    "from nltk.sentiment import SentimentIntensityAnalyzer\n",
    "analayzer=SentimentIntensityAnalyzer()\n",
    "scores=analayzer.polarity_scores(book)\n",
    "scores\n",
    "\n"
   ]
  },
  {
   "cell_type": "markdown",
   "id": "e245cbfe",
   "metadata": {},
   "source": [
    "# for Each Chapter"
   ]
  },
  {
   "cell_type": "code",
   "execution_count": null,
   "id": "15e45f80",
   "metadata": {},
   "outputs": [],
   "source": [
    "pattern=re.compile(\"Chapter [0-9]+\")    \n",
    "findings=re.split(pattern,book)\n",
    "findings=findings[1:]\n",
    "\n",
    "for chapter in finding:\n",
    "    scores=analayzer.polarity_scores(chapter)\n",
    "    print(scores)"
   ]
  }
 ],
 "metadata": {
  "kernelspec": {
   "display_name": "Python 3",
   "language": "python",
   "name": "python3"
  },
  "language_info": {
   "codemirror_mode": {
    "name": "ipython",
    "version": 3
   },
   "file_extension": ".py",
   "mimetype": "text/x-python",
   "name": "python",
   "nbconvert_exporter": "python",
   "pygments_lexer": "ipython3",
   "version": "3.12.7"
  }
 },
 "nbformat": 4,
 "nbformat_minor": 5
}
