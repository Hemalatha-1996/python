### Load the file

with open(r"E:\Data analyst\python\udemy_python_course\projects\Natural_language_processing\miracle_in_the_andes.txt",'r') as file:
    book=file.read()
### number of chapters in the book
import re
pattern=re.compile("Chapter [0-9]+")
findings=re.findall(pattern,book)
len(findings)

### Which of the sentences where "love" was used?
pattern=re.compile ("[^.]* love[^a-zA-Z]+[^.]*.")
findings=re.findall(pattern,book)
len(findings)

### Extract the paragraph where love was used in it?
pattern=re.compile("[^\n]+love[^\n]+")
findings=re.findall(pattern,book)
len(findings)

### Extract the chapter titles
pattern=re.compile("[a-zA-z ,]+\n\n")
findings=re.findall(pattern,book)
len(findings)
pattern=re.compile("[a-zA-z]+")
findings=re.findall(pattern,book)
findings
word={}
for finding in findings:
    if finding in word.keys():
        word[finding]=word[finding]+1
    else:
        word[finding]=1   

word=[ (value,word) for word,value in word.items()]
sorted(word,reverse=True)

# Extract the paragraphs where "love" was used

import re
pattern = re.compile("[^\n]+love[^\n]+")
findings = re.findall(pattern, book)
findings[:2]
# Extract the chapter titles

### Method 1

import re
pattern = re.compile("[a-zA-Z ,]+\n\n")
findings = re.findall(pattern, book)
findings = [item.strip("\n\n") for item in findings]
findings

### Method 2

import re
pattern = re.compile("([a-zA-Z ]+)\n\n")
findings = re.findall(pattern, book)
findings


# Function that finds the occurrence of any word

def find(w):
    pattern = re.compile("[a-zA-Z]+")
    findings = re.findall(pattern, book.lower())
    d = {}
    for word in findings:
        if word in d.keys():
            d[word] = d[word] + 1
        else:
            d[word] = 1
    try:
        return d[w]
    except:
        return f'The book does not contain the word "{w}"'


# Call the function

find("love")
find("hate")
# most used non-stop words
pattern=re.compile("[a-zA-z]+")
findings=re.findall(pattern,book)

d={}
for word in findings:
    if word in d.keys():
        d[word]=d[word]+1
    else:
        d[word]=1

d.keys()
from nltk.corpus import stopwords
stopwords=stopwords.words("english")
stopwords


filtered_word = []
for word, value in d.items():
    if word not in stopwords:
        filtered_word.append((word, value))
filtered_word


### Sentiment analyzer

# What is the most postive and negative chapter?
# For whole book

from nltk.sentiment import SentimentIntensityAnalyzer
analayzer=SentimentIntensityAnalyzer()
scores=analayzer.polarity_scores(book)
scores


# for Each Chapter
pattern=re.compile("Chapter [0-9]+")    
findings=re.split(pattern,book)
findings=findings[1:]

for chapter in finding:
    scores=analayzer.polarity_scores(chapter)
    print(scores)
