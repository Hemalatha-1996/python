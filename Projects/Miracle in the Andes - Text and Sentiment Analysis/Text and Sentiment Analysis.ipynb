import re

# Load the file
with open(r"E:\Data analyst\python\udemy_python_course\projects\Natural_language_processing\miracle_in_the_andes.txt", 'r', encoding='utf-8') as file:
    book = file.read()

# Number of chapters in the book
pattern = re.compile(r"Chapter [0-9]+")
findings = re.findall(pattern, book)
print("Number of chapters:", len(findings))

# Sentences containing the word "love" (case-insensitive)
pattern = re.compile(r"[^.]*\blove\b[^.]*\.", re.IGNORECASE)
sentences_with_love = re.findall(pattern, book)
print("Number of sentences with 'love':", len(sentences_with_love))

# Paragraphs containing the word "love" (case-insensitive)
pattern = re.compile(r"[^\n]*\blove\b[^\n]*", re.IGNORECASE)
paragraphs_with_love = re.findall(pattern, book)
print("Number of paragraphs with 'love':", len(paragraphs_with_love))

# Extract chapter titles (method 1)
pattern = re.compile(r"[a-zA-Z ,]+\n\n")
chapter_titles = re.findall(pattern, book)
chapter_titles = [title.strip() for title in chapter_titles]
print("Chapter titles (method 1):", chapter_titles)

# Extract chapter titles (method 2)
pattern = re.compile(r"([a-zA-Z ]+)\n\n")
chapter_titles_alt = re.findall(pattern, book)
print("Chapter titles (method 2):", chapter_titles_alt)

# Word frequency count
pattern = re.compile(r"[a-zA-Z]+")
words = re.findall(pattern, book.lower())  # convert to lowercase

word_counts = {}
for word in words:
    word_counts[word] = word_counts.get(word, 0) + 1

# Print top 10 most frequent words
top_10 = sor_
